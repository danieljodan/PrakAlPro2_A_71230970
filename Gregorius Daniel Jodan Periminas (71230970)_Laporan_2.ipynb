{
 "cells": [
  {
   "cell_type": "markdown",
   "id": "efb1af2f-b3b5-4ac5-b133-a7a775d0e314",
   "metadata": {},
   "source": [
    "# Latihan Mandiri 2.1"
   ]
  },
  {
   "cell_type": "code",
   "execution_count": 10,
   "id": "0f393131-e85e-4862-ac6d-826084d8a063",
   "metadata": {},
   "outputs": [
    {
     "name": "stdout",
     "output_type": "stream",
     "text": [
      "Selamat datang di Program Pengukuran Berat Badan Ideal!\n",
      "=======================================================\n"
     ]
    },
    {
     "name": "stdin",
     "output_type": "stream",
     "text": [
      "Silahkan masukkan nilai BMI yang diharapkan:  21\n",
      "Silahkan masukkan tinggi badan Anda di sini dalam satuan cm:  165\n"
     ]
    },
    {
     "name": "stdout",
     "output_type": "stream",
     "text": [
      "Dengan nilai BMI: 21.0 dan tinggi Badan: 1.65 m, maka berat badan yang diperlukan yaitu 57.17249999999999 kg\n"
     ]
    }
   ],
   "source": [
    "# Menurut WHO, kategori standar berat badan ideal pria dan wanita dewasa berdasarkan BMI adalah sebagai berikut:\n",
    "# Kurang dari 18,5 berarti berat badan kurang (underweight).\n",
    "# Antara 18,5 - 24,9 berarti berat badan normal\n",
    "# Antara 25-29,9 berarti berat badan berlebih (overweight).\n",
    "# Di atas 30 berarti obesitas\n",
    "\n",
    "print(\"Selamat datang di Program Pengukuran Berat Badan Ideal!\")\n",
    "print(\"=======================================================\")\n",
    "nilaiBmiDiharapkan = float(input(\"Silahkan masukkan nilai BMI yang diharapkan: \"))\n",
    "tinggiBadanCm = int(input(\"Silahkan masukkan tinggi badan Anda di sini dalam satuan cm: \"))\n",
    "\n",
    "tinggiBadanM = tinggiBadanCm / 100\n",
    "beratBadan = nilaiBmiDiharapkan * (tinggiBadanM ** 2)\n",
    "\n",
    "print(f\"Dengan nilai BMI: {nilaiBmiDiharapkan} dan tinggi Badan: {tinggiBadanM} m, maka berat badan yang diperlukan yaitu {beratBadan} kg\")"
   ]
  },
  {
   "cell_type": "markdown",
   "id": "3ef2f68e-0f9a-4b33-bc3e-b83fda074e55",
   "metadata": {},
   "source": [
    "# Latihan Mandiri 2.2"
   ]
  },
  {
   "cell_type": "code",
   "execution_count": 5,
   "id": "a0aa0dab-a95c-426d-8f96-a43332dc090d",
   "metadata": {},
   "outputs": [
    {
     "name": "stdout",
     "output_type": "stream",
     "text": [
      "Program Menghitung Hasil Fungsi\n",
      "===============================\n"
     ]
    },
    {
     "name": "stdin",
     "output_type": "stream",
     "text": [
      "Silahkan masukkan nilai bilangan real X yang diinginkan:  5\n"
     ]
    },
    {
     "name": "stdout",
     "output_type": "stream",
     "text": [
      "Untuk nilai X: 5.0, maka hasil fungsi: 263.0\n"
     ]
    }
   ],
   "source": [
    "print(\"Program Menghitung Hasil Fungsi\")\n",
    "print(\"===============================\")\n",
    "\n",
    "nilaiX = float(input(\"Silahkan masukkan nilai bilangan real X yang diinginkan: \"))\n",
    "hasilFungsi = 2 * (nilaiX ** 3) + 2 * nilaiX + 15 / nilaiX\n",
    "\n",
    "print (f\"Untuk nilai X: {nilaiX}, maka hasil fungsi: {hasilFungsi}\")"
   ]
  },
  {
   "cell_type": "markdown",
   "id": "757d60b2-2531-40e9-a85a-09559ed27af3",
   "metadata": {},
   "source": [
    "# Latihan Mandiri 2.3"
   ]
  },
  {
   "cell_type": "code",
   "execution_count": 9,
   "id": "3eb4a357-0472-4ece-8567-a62628deb9ec",
   "metadata": {},
   "outputs": [
    {
     "name": "stdout",
     "output_type": "stream",
     "text": [
      "Selamat Datang di Program Perhitungan Keuangan\n",
      "==============================================\n"
     ]
    },
    {
     "name": "stdin",
     "output_type": "stream",
     "text": [
      "Silahkan masukkan gaji per jam yang diharapkan: Rp  50000\n",
      "Silahkan masukkan lama jam kerja per minggu:  36\n"
     ]
    },
    {
     "name": "stdout",
     "output_type": "stream",
     "text": [
      "Pendapatan Budi selama libur musim panas sebelum melakukan pembayaran pajak adalah Rp 9000000\n",
      "Pendapatan Budi selama libur musim panas setelah melakukan pembayaran pajak adalah RP 7740000.0\n",
      "Jumlah uang yang akan Budi habiskan untuk membeli pakaian dan aksesoris adalah Rp 774000.0\n",
      "Jumlah uang yang akan Budi habiskan untuk membeli alat tulis adalah Rp 77400.0\n",
      "Jumlah uang yang akan Budi sedekahkan adalah Rp 1722150.0\n",
      "Jumlah uang yang akan diterima anak yatim adalah Rp 516600.0\n",
      "Jumlah uang yang akan diterima kaum dhuafa adalah Rp 1205550.0\n"
     ]
    }
   ],
   "source": [
    "print(\"Selamat Datang di Program Perhitungan Keuangan\")\n",
    "print(\"==============================================\")\n",
    "\n",
    "gajiPerJam = int(input(\"Silahkan masukkan gaji per jam yang diharapkan: Rp \"))\n",
    "jamKerjaPerMinggu = int(input(\"Silahkan masukkan lama jam kerja per minggu: \"))\n",
    "\n",
    "pendapatanSebelumPajak = (jamKerjaPerMinggu * 5) * gajiPerJam\n",
    "pendapatanSesudahPajak = pendapatanSebelumPajak - pendapatanSebelumPajak * 0.14\n",
    "uangBajuAksesoris = pendapatanSesudahPajak * 0.10\n",
    "uangAlatTulis = pendapatanSesudahPajak * 0.01\n",
    "uangSedekah = (pendapatanSesudahPajak - uangBajuAksesoris - uangAlatTulis) * 0.25\n",
    "\n",
    "uangSedekahLoop = uangSedekah\n",
    "uangYatim = 0\n",
    "while uangSedekahLoop >= 1000:\n",
    "    uangSedekahLoop -= 1000\n",
    "    uangYatim += 1000 * 0.30\n",
    "\n",
    "uangKaumDhuafa = uangSedekah - uangYatim\n",
    "\n",
    "print(f\"Pendapatan Budi selama libur musim panas sebelum melakukan pembayaran pajak adalah Rp {pendapatanSebelumPajak}\")\n",
    "print(f\"Pendapatan Budi selama libur musim panas setelah melakukan pembayaran pajak adalah RP {pendapatanSesudahPajak}\")\n",
    "print(f\"Jumlah uang yang akan Budi habiskan untuk membeli pakaian dan aksesoris adalah Rp {uangBajuAksesoris}\")\n",
    "print(f\"Jumlah uang yang akan Budi habiskan untuk membeli alat tulis adalah Rp {uangAlatTulis}\")\n",
    "print(f\"Jumlah uang yang akan Budi sedekahkan adalah Rp {uangSedekah}\")\n",
    "print(f\"Jumlah uang yang akan diterima anak yatim adalah Rp {uangYatim}\")\n",
    "print(f\"Jumlah uang yang akan diterima kaum dhuafa adalah Rp {uangKaumDhuafa}\")"
   ]
  },
  {
   "cell_type": "code",
   "execution_count": null,
   "id": "d2877f0a-8ef5-4c21-84f6-4d10b721ea59",
   "metadata": {},
   "outputs": [],
   "source": []
  }
 ],
 "metadata": {
  "kernelspec": {
   "display_name": "Python 3 (ipykernel)",
   "language": "python",
   "name": "python3"
  },
  "language_info": {
   "codemirror_mode": {
    "name": "ipython",
    "version": 3
   },
   "file_extension": ".py",
   "mimetype": "text/x-python",
   "name": "python",
   "nbconvert_exporter": "python",
   "pygments_lexer": "ipython3",
   "version": "3.11.5"
  }
 },
 "nbformat": 4,
 "nbformat_minor": 5
}
